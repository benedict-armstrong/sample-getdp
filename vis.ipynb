{
 "cells": [
  {
   "cell_type": "code",
   "execution_count": 1,
   "metadata": {},
   "outputs": [],
   "source": [
    "from pathlib import Path\n",
    "\n",
    "import pyvista as pv\n",
    "from PIL import Image"
   ]
  },
  {
   "cell_type": "code",
   "execution_count": 2,
   "metadata": {},
   "outputs": [],
   "source": [
    "out_path = Path(\"./out\")\n",
    "experiment_dirs = [d for d in out_path.iterdir() if d.is_dir()]"
   ]
  },
  {
   "cell_type": "code",
   "execution_count": null,
   "metadata": {},
   "outputs": [
    {
     "data": {
      "application/vnd.jupyter.widget-view+json": {
       "model_id": "377febd2eecc4662ba3299689133f5ed",
       "version_major": 2,
       "version_minor": 0
      },
      "text/plain": [
       "Widget(value='<iframe src=\"http://localhost:52008/index.html?ui=P_0x110edce30_0&reconnect=auto\" class=\"pyvista…"
      ]
     },
     "metadata": {},
     "output_type": "display_data"
    }
   ],
   "source": [
    "size = 200\n",
    "\n",
    "n_experiments = len(experiment_dirs)\n",
    "\n",
    "# max 6\n",
    "plot_shape = (1, n_experiments)\n",
    "\n",
    "p = pv.Plotter(shape=(1, n_experiments), window_size=(size * n_experiments, size))\n",
    "\n",
    "for i, exp_dir in enumerate(experiment_dirs):\n",
    "    for vtk_file in exp_dir.glob(\"*.vtk\"):\n",
    "        mesh = pv.read(vtk_file)\n",
    "        p.subplot(0, i)\n",
    "        p.add_mesh(mesh, scalars=\"solution_magnitude\")\n",
    "\n",
    "p.link_views()\n",
    "p.view_isometric()\n",
    "p.show()"
   ]
  },
  {
   "cell_type": "markdown",
   "metadata": {},
   "source": [
    "Example distribution over different input geometries\n",
    "\n",
    "![Image](distribution_example.png)\n"
   ]
  }
 ],
 "metadata": {
  "kernelspec": {
   "display_name": ".venv",
   "language": "python",
   "name": "python3"
  },
  "language_info": {
   "codemirror_mode": {
    "name": "ipython",
    "version": 3
   },
   "file_extension": ".py",
   "mimetype": "text/x-python",
   "name": "python",
   "nbconvert_exporter": "python",
   "pygments_lexer": "ipython3",
   "version": "3.12.7"
  }
 },
 "nbformat": 4,
 "nbformat_minor": 2
}
